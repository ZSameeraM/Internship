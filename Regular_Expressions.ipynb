{
 "cells": [
  {
   "cell_type": "markdown",
   "id": "8b2745c2",
   "metadata": {},
   "source": [
    "# Regular Expressions"
   ]
  },
  {
   "cell_type": "code",
   "execution_count": 1,
   "id": "cfe0f02d",
   "metadata": {},
   "outputs": [],
   "source": [
    "import pandas as pd"
   ]
  },
  {
   "cell_type": "markdown",
   "id": "24e59356",
   "metadata": {},
   "source": [
    "### Question 1- Write a Python program to replace all occurrences of a space, comma, or dot with a colon."
   ]
  },
  {
   "cell_type": "markdown",
   "id": "f4dea3f9",
   "metadata": {},
   "source": [
    "- Sample Text- 'Python Exercises, PHP exercises.'\n",
    "- Expected Output: Python:Exercises::PHP:exercises:\n"
   ]
  },
  {
   "cell_type": "code",
   "execution_count": 2,
   "id": "56e395cf",
   "metadata": {
    "scrolled": true
   },
   "outputs": [
    {
     "name": "stdout",
     "output_type": "stream",
     "text": [
      "Python:Exercises::PHP:exercises:\n"
     ]
    }
   ],
   "source": [
    "import re\n",
    "s='Python Exercises, PHP exercises.'\n",
    "pat = r'[ ,.]'\n",
    "result = re.sub(pat,':',s)\n",
    "print(result)\n"
   ]
  },
  {
   "cell_type": "markdown",
   "id": "104ddebf",
   "metadata": {},
   "source": [
    "### Question 2-  Write a Python program to find all words starting with 'a' or 'e' in a given string."
   ]
  },
  {
   "cell_type": "code",
   "execution_count": 4,
   "id": "b3a232bf",
   "metadata": {},
   "outputs": [
    {
     "name": "stdout",
     "output_type": "stream",
     "text": [
      "['am', 'eating', 'apple', 'everyday', 'away']\n"
     ]
    }
   ],
   "source": [
    "s=' I am eating apple everyday to keep doctor away'\n",
    "pat = r'\\b[ae]\\w*\\b'\n",
    "result = re.findall(pat,s)\n",
    "print(result)\n"
   ]
  },
  {
   "cell_type": "markdown",
   "id": "0239c7c2",
   "metadata": {},
   "source": [
    "### Question 3- Create a function in python to find all words that are at least 4 characters long in a string. The use of the re.compile() method is mandatory."
   ]
  },
  {
   "cell_type": "code",
   "execution_count": 1,
   "id": "d6f8de1e",
   "metadata": {},
   "outputs": [
    {
     "name": "stdout",
     "output_type": "stream",
     "text": [
      "match available in string are: idea\n",
      "match available in string are: that\n",
      "match available in string are: change\n",
      "match available in string are: life\n"
     ]
    }
   ],
   "source": [
    "import re\n",
    "pattern=re.compile(r'\\b\\w{4,}\\b')\n",
    "matcher=pattern.finditer('The idea that change life')\n",
    "for match in matcher:\n",
    "    print('match available in string are:',match.group())"
   ]
  },
  {
   "cell_type": "markdown",
   "id": "861d22b5",
   "metadata": {},
   "source": [
    "### Question 4- Create a function in python to find all three, four, and five character words in a string. The use of the re.compile() method is mandatory."
   ]
  },
  {
   "cell_type": "code",
   "execution_count": 6,
   "id": "725710fe",
   "metadata": {},
   "outputs": [
    {
     "name": "stdout",
     "output_type": "stream",
     "text": [
      "late\n",
      "the\n",
      "class\n"
     ]
    }
   ],
   "source": [
    "pattern = re.compile(r'\\b\\w{3,}\\b')\n",
    "matcher = pattern.finditer('I am late to the class')\n",
    "for match in matcher:\n",
    "    print(match.group())"
   ]
  },
  {
   "cell_type": "markdown",
   "id": "d0e2bfda",
   "metadata": {},
   "source": [
    "### Question 5- Create a function in Python to remove the parenthesis in a list of strings. The use of the re.compile() method is mandatory.\n",
    "- Sample Text: [\"example (.com)\", \"hr@fliprobo (.com)\", \"github (.com)\", \"Hello (Data Science World)\", \"Data (Scientist)\"]\n",
    "- Expected Output:\n",
    "- example.com\n",
    "- hr@fliprobo.com\n",
    "- github.com\n",
    "- Hello Data Science World\n",
    "- Data Scientist"
   ]
  },
  {
   "cell_type": "code",
   "execution_count": 42,
   "id": "59fb0a67",
   "metadata": {},
   "outputs": [
    {
     "name": "stdout",
     "output_type": "stream",
     "text": [
      "            example .com\n",
      "        hr@fliprobo .com\n",
      "             github .com\n",
      "Hello Data Science World\n",
      "          Data Scientist\n"
     ]
    }
   ],
   "source": [
    "import re\n",
    "import pandas as pd\n",
    "\n",
    "df = pd.DataFrame({'A': [\"example (.com)\", \"hr@fliprobo (.com)\",\"github (.com)\",\"Hello (Data Science World)\", \"Data (Scientist)\"]})\n",
    "pattern = re.compile(r'[()]') \n",
    "df['A'] = df['A'].apply(lambda x: pattern.sub('', x)) \n",
    "print(df.to_string(header=False, index=False))"
   ]
  },
  {
   "cell_type": "markdown",
   "id": "f6248bc8",
   "metadata": {},
   "source": [
    "### Question 6- Write a python program to remove the parenthesis area from the text stored in the text file using Regular Expression.\n",
    "- Sample Text: [\"example (.com)\", \"hr@fliprobo (.com)\", \"github (.com)\", \"Hello (Data Science World)\", \"Data (Scientist)\"]\n",
    "- Expected Output: [\"example\", \"hr@fliprobo\", \"github\", \"Hello\", \"Data\"]\n",
    "- Note- Store given sample text in the text file and then to remove the parenthesis area from the text."
   ]
  },
  {
   "cell_type": "code",
   "execution_count": 5,
   "id": "7a8ef489",
   "metadata": {},
   "outputs": [
    {
     "name": "stdout",
     "output_type": "stream",
     "text": [
      "[\"example\", \"hr@fliprobo\", \"github\", \"Hello\", \"Data\"]\n"
     ]
    }
   ],
   "source": [
    "with open('text_file.txt','r') as file:\n",
    "    for line in file:\n",
    "        pattern = re.compile(r'\\s?\\([^()]*\\)')\n",
    "        trimmed_text = pattern.sub('',line)\n",
    "        print(trimmed_text)"
   ]
  },
  {
   "cell_type": "markdown",
   "id": "0a9eef7f",
   "metadata": {},
   "source": [
    "### Question 7- Write a regular expression in Python to split a string into uppercase letters.\n",
    "- Sample text: “ImportanceOfRegularExpressionsInPython”\n",
    "- Expected Output: [‘Importance’, ‘Of’, ‘Regular’, ‘Expression’, ‘In’, ‘Python’]\n"
   ]
  },
  {
   "cell_type": "code",
   "execution_count": 9,
   "id": "bcc96079",
   "metadata": {},
   "outputs": [
    {
     "name": "stdout",
     "output_type": "stream",
     "text": [
      "['Importance', 'Of', 'Regular', 'Expressions', 'In', 'Python']\n"
     ]
    }
   ],
   "source": [
    "text= 'ImportanceOfRegularExpressionsInPython'\n",
    "pattern = re.compile(r'[A-Z][a-z]*')\n",
    "matcher=re.findall(pattern,text)\n",
    "print(matcher)"
   ]
  },
  {
   "cell_type": "markdown",
   "id": "18474ff9",
   "metadata": {},
   "source": [
    "### Question 8- Create a function in python to insert spaces between words starting with numbers.\n",
    "- Sample Text: “RegularExpression1IsAn2ImportantTopic3InPython\"\n",
    "- Expected Output: RegularExpression 1IsAn 2ImportantTopic 3InPython"
   ]
  },
  {
   "cell_type": "code",
   "execution_count": 9,
   "id": "e4b83312",
   "metadata": {},
   "outputs": [
    {
     "name": "stdout",
     "output_type": "stream",
     "text": [
      "RegularExpression 1IsAn 2ImportantTopic 3InPython\n"
     ]
    }
   ],
   "source": [
    "text = 'RegularExpression1IsAn2ImportantTopic3InPython'\n",
    "pattern = re.compile(r'(?<=\\D)(\\d)')\n",
    "match=re.sub(pattern,r' \\1', text)\n",
    "print(match)"
   ]
  },
  {
   "cell_type": "markdown",
   "id": "3c7a360b",
   "metadata": {},
   "source": [
    "### Question 9- Create a function in python to insert spaces between words starting with capital letters or with numbers.\n",
    "- Sample Text: “RegularExpression1IsAn2ImportantTopic3InPython\"\n",
    "- Expected Output:  RegularExpression 1 IsAn 2 ImportantTopic 3 InPython\n"
   ]
  },
  {
   "cell_type": "code",
   "execution_count": 11,
   "id": "a8f135c4",
   "metadata": {},
   "outputs": [
    {
     "name": "stdout",
     "output_type": "stream",
     "text": [
      "RegularExpression 1 IsAn 2 ImportantTopic 3 InPython\n"
     ]
    }
   ],
   "source": [
    "text = 'RegularExpression1IsAn2ImportantTopic3InPython'\n",
    "pattern = re.compile(r'(?<=[A-Z0-9])(?=[A-Z])|(?<=[A-Za-z0-9])(?=\\d)')\n",
    "matcher=re.sub(pattern,' ',text)\n",
    "print(matcher)"
   ]
  },
  {
   "cell_type": "markdown",
   "id": "a4aa8667",
   "metadata": {},
   "source": [
    "### Question 10- Write a python program to extract email address from the text stored in the text file using Regular Expression.\n",
    "- Sample Text- Hello my name is Data Science and my email address is xyz@domain.com and alternate email address is xyz.abc@sdomain.domain.com\n",
    "- Please contact us at hr@fliprobo.com for further information. \n",
    "- Expected Output: \n",
    "['xyz@domain.com', 'xyz.abc@sdomain.domain.com']\n",
    "['hr@fliprobo.com']\n",
    "\n",
    "- Note- Store given sample text in the text file and then extract email addresses."
   ]
  },
  {
   "cell_type": "code",
   "execution_count": 12,
   "id": "3e79a845",
   "metadata": {},
   "outputs": [
    {
     "name": "stdout",
     "output_type": "stream",
     "text": [
      "['xyz@domain.com', 'xyz.abc@sdomain.domain.com']\n",
      "['hr@fliprobo.com']\n"
     ]
    }
   ],
   "source": [
    "import re\n",
    "with open('url_related.txt','r') as file:\n",
    "    for line in file:\n",
    "        urls = re.findall(r'\\b[A-Za-z0-9._%+-]+@[A-Za-z0-9.-]+\\.[A-Z|a-z]{2,}\\b',line)\n",
    "        print(urls)"
   ]
  },
  {
   "cell_type": "markdown",
   "id": "7390cc1d",
   "metadata": {},
   "source": [
    "### Question 11- Write a Python program to match a string that contains only upper and lowercase letters, numbers, and underscores."
   ]
  },
  {
   "cell_type": "code",
   "execution_count": 13,
   "id": "35316d67",
   "metadata": {},
   "outputs": [
    {
     "name": "stdout",
     "output_type": "stream",
     "text": [
      "Enter pattern to check: Sameera_123\n",
      "Match is available\n"
     ]
    }
   ],
   "source": [
    "string =input('Enter pattern to check: ')\n",
    "m = re.search('^[A-Za-z0-9]+',string)\n",
    "if m != None:\n",
    "    print('Match is available')\n",
    "    \n",
    "else:\n",
    "    print('Match is not available') "
   ]
  },
  {
   "cell_type": "code",
   "execution_count": 14,
   "id": "b774e796",
   "metadata": {},
   "outputs": [
    {
     "name": "stdout",
     "output_type": "stream",
     "text": [
      "Enter pattern to check: @3434%^(*SAMeeera\n",
      "Match is not available\n"
     ]
    }
   ],
   "source": [
    "string =input('Enter pattern to check: ')\n",
    "m = re.search('^[A-Za-z0-9]+',string)\n",
    "if m != None:\n",
    "    print('Match is available')\n",
    "    \n",
    "else:\n",
    "    print('Match is not available') "
   ]
  },
  {
   "cell_type": "markdown",
   "id": "985863f4",
   "metadata": {},
   "source": [
    "### Question 12- Write a Python program where a string will start with a specific number. \n"
   ]
  },
  {
   "cell_type": "code",
   "execution_count": 15,
   "id": "5d13f15a",
   "metadata": {},
   "outputs": [
    {
     "name": "stdout",
     "output_type": "stream",
     "text": [
      "Enter pattern to check: 9164784091048\n",
      "Match is available\n"
     ]
    }
   ],
   "source": [
    "string =input('Enter pattern to check: ')\n",
    "m = re.search('^[91]\\w*',string)\n",
    "if m != None:\n",
    "    print('Match is available')\n",
    "    \n",
    "else:\n",
    "    print('Match is not available') "
   ]
  },
  {
   "cell_type": "markdown",
   "id": "777d3de1",
   "metadata": {},
   "source": [
    "### Question 13- Write a Python program to remove leading zeros from an IP address"
   ]
  },
  {
   "cell_type": "code",
   "execution_count": 16,
   "id": "ec4e57e1",
   "metadata": {},
   "outputs": [
    {
     "name": "stdout",
     "output_type": "stream",
     "text": [
      "Enter pattern to check: 239.0098.453.000123.0087\n",
      "239.98.453.123.87\n"
     ]
    }
   ],
   "source": [
    "string =input('Enter pattern to check: ')\n",
    "m = re.sub(r'\\b0+(\\d+)\\b',r'\\1',string)\n",
    "print(m)"
   ]
  },
  {
   "cell_type": "markdown",
   "id": "c9dcbd35",
   "metadata": {},
   "source": [
    "### Question 14- Write a regular expression in python to match a date string in the form of Month name followed by day number and year stored in a text file.\n",
    "- Sample text :  ' On August 15th 1947 that India was declared independent from British colonialism, and the reins of control were handed over to the leaders of the Country’.\n",
    "- Expected Output- August 15th 1947\n",
    "- Note- Store given sample text in the text file and then extract the date string asked format."
   ]
  },
  {
   "cell_type": "code",
   "execution_count": 17,
   "id": "bcc5875e",
   "metadata": {},
   "outputs": [
    {
     "name": "stdout",
     "output_type": "stream",
     "text": [
      "August 15th 1947\n"
     ]
    }
   ],
   "source": [
    "import re\n",
    "\n",
    "with open('date_text_file.txt', 'r') as file:\n",
    "    for line in file:\n",
    "        dates = re.findall(r'\\b(?:January|February|March|April|May|June|July|August|September|October|November|December)\\s+\\d{1,2}(?:st|nd|rd|th)?\\s+\\d{4}\\b', line, re.IGNORECASE)\n",
    "        for date in dates:\n",
    "            print(date)\n",
    " \n",
    "  "
   ]
  },
  {
   "cell_type": "markdown",
   "id": "598e6be7",
   "metadata": {},
   "source": [
    "### Question 15- Write a Python program to search some literals strings in a string. \n",
    "Sample text : 'The quick brown fox jumps over the lazy dog.'\n",
    "**Searched words** : 'fox', 'dog', 'horse'\n"
   ]
  },
  {
   "cell_type": "code",
   "execution_count": 18,
   "id": "aee69c19",
   "metadata": {},
   "outputs": [
    {
     "name": "stdout",
     "output_type": "stream",
     "text": [
      "['fox', 'dog']\n"
     ]
    }
   ],
   "source": [
    "text =  'The quick brown fox jumps over the lazy dog.'\n",
    "pattern = re.compile(r'\\b(fox|dog|horse)\\b')\n",
    "matcher=re.findall(pattern,text)\n",
    "print(matcher)"
   ]
  },
  {
   "cell_type": "markdown",
   "id": "dc79167f",
   "metadata": {},
   "source": [
    "### Question 16- Write a Python program to search a literals string in a string and also find the location within the original string where the pattern occurs\n",
    "Sample text : 'The quick brown fox jumps over the lazy dog.'\n",
    "**Searched words** : 'fox'"
   ]
  },
  {
   "cell_type": "code",
   "execution_count": 19,
   "id": "6a7cb21a",
   "metadata": {},
   "outputs": [
    {
     "name": "stdout",
     "output_type": "stream",
     "text": [
      "['fox']\n"
     ]
    }
   ],
   "source": [
    "text=  'The quick brown fox jumps over the lazy dog.'\n",
    "pattern = re.compile(r'\\b(fox)\\b')\n",
    "matcher=re.findall(pattern,text)\n",
    "print(matcher)"
   ]
  },
  {
   "cell_type": "markdown",
   "id": "516f6fce",
   "metadata": {},
   "source": [
    "### Question 17- Write a Python program to find the substrings within a string.\n",
    "- Sample text : 'Python exercises, PHP exercises, C# exercises'\n",
    "**Pattern** : 'exercises'."
   ]
  },
  {
   "cell_type": "code",
   "execution_count": 20,
   "id": "2298823b",
   "metadata": {},
   "outputs": [
    {
     "name": "stdout",
     "output_type": "stream",
     "text": [
      "exercises\n",
      "exercises\n",
      "exercises\n"
     ]
    }
   ],
   "source": [
    "string = 'Python exercises, PHP exercises, C# exercises'\n",
    "pattern = 'exercises'\n",
    "match = re.findall(pattern, string)\n",
    "for m in match:\n",
    "    print(m)\n",
    "\n",
    "   "
   ]
  },
  {
   "cell_type": "markdown",
   "id": "7029cb25",
   "metadata": {},
   "source": [
    "### Question 18- Write a Python program to find the occurrence and position of the substrings within a string."
   ]
  },
  {
   "cell_type": "code",
   "execution_count": 21,
   "id": "92bc71f7",
   "metadata": {},
   "outputs": [
    {
     "name": "stdout",
     "output_type": "stream",
     "text": [
      "start:0, group:ab\n",
      "start:3, group:ab\n",
      "start:5, group:ab\n",
      "The number of occurences: 3\n"
     ]
    }
   ],
   "source": [
    "import re\n",
    "count=0\n",
    "pattern = re.compile('ab')\n",
    "matcher = pattern.finditer('abaababa')  \n",
    "for match in matcher:\n",
    "    count+=1\n",
    "    print('start:{}, group:{}'.format(match.start(),match.group()))\n",
    "print('The number of occurences:',count)"
   ]
  },
  {
   "cell_type": "markdown",
   "id": "2107fc84",
   "metadata": {},
   "source": [
    "### Question 19- Write a Python program to convert a date of yyyy-mm-dd format to dd-mm-yyyy format."
   ]
  },
  {
   "cell_type": "code",
   "execution_count": 22,
   "id": "c4a87516",
   "metadata": {},
   "outputs": [
    {
     "name": "stdout",
     "output_type": "stream",
     "text": [
      "Enter a date in yyyy-mm-dd format: 2023-08-05\n",
      "Converted date in dd-mm-yyyy format: 05-08-2023\n"
     ]
    }
   ],
   "source": [
    "from datetime import datetime\n",
    "\n",
    "date_str = input('Enter a date in yyyy-mm-dd format: ')\n",
    "date_object = datetime.strptime(date_str, '%Y-%m-%d')\n",
    "converted_date_str = date_object.strftime('%d-%m-%Y')\n",
    "if converted_date_str:\n",
    "    print('Converted date in dd-mm-yyyy format:', converted_date_str)\n",
    "else:\n",
    "    print('Invalid date format. Please enter date in yyyy-mm-dd format.')"
   ]
  },
  {
   "cell_type": "markdown",
   "id": "ff6a23c5",
   "metadata": {},
   "source": [
    "### Question 20- Create a function in python to find all decimal numbers with a precision of 1 or 2 in a string. The use of the re.compile() method is mandatory."
   ]
  },
  {
   "cell_type": "code",
   "execution_count": 23,
   "id": "14589ba8",
   "metadata": {},
   "outputs": [
    {
     "data": {
      "text/plain": [
       "['2.89', '9.01', '0.01']"
      ]
     },
     "execution_count": 23,
     "metadata": {},
     "output_type": "execute_result"
    }
   ],
   "source": [
    "text = \"2.89 wents to eat 9.01 and 0.01 came to resuce it\"\n",
    "pattern = re.compile(r'\\b\\d+\\.\\d{1,2}\\b')\n",
    "decimals = pattern.findall(text)\n",
    "decimals"
   ]
  },
  {
   "cell_type": "markdown",
   "id": "2c4a533c",
   "metadata": {},
   "source": [
    "### Question 21- Write a Python program to separate and print the numbers and their position of a given string."
   ]
  },
  {
   "cell_type": "code",
   "execution_count": 24,
   "id": "c6163e24",
   "metadata": {},
   "outputs": [
    {
     "name": "stdout",
     "output_type": "stream",
     "text": [
      "Number is: 9, position is: 7\n",
      "Number is: 8, position is: 8\n",
      "Number is: 7, position is: 9\n",
      "Number is: 6, position is: 23\n",
      "Number is: 5, position is: 24\n",
      "Number is: 4, position is: 25\n",
      "Number is: 3, position is: 38\n",
      "Number is: 2, position is: 39\n",
      "Number is: 1, position is: 40\n",
      "Number is: 0, position is: 41\n"
     ]
    }
   ],
   "source": [
    "s = 'i have 987 oranges and 654 apples and 3210 bananas and we can make juices and salads'\n",
    "for i,char in enumerate(s):\n",
    "    if char.isdigit():\n",
    "        print('Number is: {}, position is: {}'.format(char,i))"
   ]
  },
  {
   "cell_type": "markdown",
   "id": "be2d8ee0",
   "metadata": {},
   "source": [
    "### Question 22- Write a regular expression in python program to extract maximum/largest numeric value from a string.\n",
    "- Sample Text:  'My marks in each semester are: 947, 896, 926, 524, 734, 950, 642'\n",
    "- Expected Output: 950"
   ]
  },
  {
   "cell_type": "code",
   "execution_count": 25,
   "id": "560840c4",
   "metadata": {},
   "outputs": [
    {
     "data": {
      "text/plain": [
       "'950'"
      ]
     },
     "execution_count": 25,
     "metadata": {},
     "output_type": "execute_result"
    }
   ],
   "source": [
    "text =  'My marks in each semester are: 947, 896, 926, 524, 734, 950, 642'\n",
    "pat = r'\\b\\d+\\b'\n",
    "numeric_value = re.findall(pat,text)\n",
    "max_value = max(numeric_value)\n",
    "max_value"
   ]
  },
  {
   "cell_type": "markdown",
   "id": "ab3ee524",
   "metadata": {},
   "source": [
    "### Question 23- Create a function in python to insert spaces between words starting with capital letters.\n",
    "- Sample Text: “RegularExpressionIsAnImportantTopicInPython\"\n",
    "- Expected Output: Regular Expression Is An Important Topic In Python"
   ]
  },
  {
   "cell_type": "code",
   "execution_count": 26,
   "id": "d53d6425",
   "metadata": {},
   "outputs": [
    {
     "data": {
      "text/plain": [
       "'Regular Expression Is An Important Topic In Python'"
      ]
     },
     "execution_count": 26,
     "metadata": {},
     "output_type": "execute_result"
    }
   ],
   "source": [
    "text=  \"RegularExpressionIsAnImportantTopicInPython\"\n",
    "match =re.sub(r'([A-Z][a-z]*)', r' \\1', text).strip()\n",
    "match"
   ]
  },
  {
   "cell_type": "markdown",
   "id": "97b3c8cd",
   "metadata": {},
   "source": [
    "### Question 24- Python regex to find sequences of one upper case letter followed by lower case letters"
   ]
  },
  {
   "cell_type": "code",
   "execution_count": 27,
   "id": "238dab61",
   "metadata": {},
   "outputs": [
    {
     "data": {
      "text/plain": [
       "['Python']"
      ]
     },
     "execution_count": 27,
     "metadata": {},
     "output_type": "execute_result"
    }
   ],
   "source": [
    "string = 'learning Python is easy'\n",
    "result = re.findall(r'[A-Z][a-z]+', string)\n",
    "result"
   ]
  },
  {
   "cell_type": "markdown",
   "id": "a1904828",
   "metadata": {},
   "source": [
    "### Question 25- Write a Python program to remove continuous duplicate words from Sentence using Regular Expression.\n",
    "- Sample Text: \"Hello hello world world\"\n",
    "- Expected Output: Hello hello world"
   ]
  },
  {
   "cell_type": "code",
   "execution_count": 28,
   "id": "00c237ed",
   "metadata": {},
   "outputs": [
    {
     "data": {
      "text/plain": [
       "'Hello hello world'"
      ]
     },
     "execution_count": 28,
     "metadata": {},
     "output_type": "execute_result"
    }
   ],
   "source": [
    "text = \"Hello hello world world\"\n",
    "output = re.sub(r'\\b(\\w+)\\s+\\1\\b', r'\\1', text)\n",
    "output"
   ]
  },
  {
   "cell_type": "markdown",
   "id": "dc6866e0",
   "metadata": {},
   "source": [
    "### Question 26-  Write a python program using RegEx to accept string ending with alphanumeric character."
   ]
  },
  {
   "cell_type": "code",
   "execution_count": 29,
   "id": "f00d48a6",
   "metadata": {},
   "outputs": [
    {
     "name": "stdout",
     "output_type": "stream",
     "text": [
      "sam123 ==> ends with an alphanumeric character.\n",
      "world! ==> does not end with an alphanumeric character.\n",
      "abc123_ ==> does not end with an alphanumeric character.\n",
      "123 ==> ends with an alphanumeric character.\n",
      "scipy321 ==> ends with an alphanumeric character.\n"
     ]
    }
   ],
   "source": [
    "strings = [\"sam123\", \"world!\", \"abc123_\", \"123\", \"scipy321\"]\n",
    "\n",
    "for str in strings:\n",
    "    last_char = str[-1]\n",
    "    if last_char.isalnum():\n",
    "        print(f\"{str} ==> ends with an alphanumeric character.\")\n",
    "    else:\n",
    "        print(f\"{str} ==> does not end with an alphanumeric character.\")"
   ]
  },
  {
   "cell_type": "markdown",
   "id": "5bde6a46",
   "metadata": {},
   "source": [
    "### Question 27-Write a python program using RegEx to extract the hashtags.\n",
    "- Sample Text:  \"\"\"RT @kapil_kausik: #Doltiwal I mean #xyzabc is \"hurt\" by #Demonetization as the same has rendered USELESS <ed><U+00A0><U+00BD><ed><U+00B1><U+0089> \"acquired funds\" No wo\"\"\"\n",
    "- Expected Output: ['#Doltiwal', '#xyzabc', '#Demonetization']\n",
    "\n"
   ]
  },
  {
   "cell_type": "code",
   "execution_count": 30,
   "id": "f2187711",
   "metadata": {},
   "outputs": [
    {
     "name": "stdout",
     "output_type": "stream",
     "text": [
      "['#Doltiwal', '#xyzabc', '#Demonetization']\n"
     ]
    }
   ],
   "source": [
    "sample_text = \"\"\"RT @kapil_kausik: #Doltiwal I mean #xyzabc is \"hurt\" by #Demonetization as the same has rendered USELESS <U+00A0><U+00BD><U+00B1><U+0089> \"acquired funds\" No wo\"\"\"\n",
    "pattern = re.compile(r'#\\w+')\n",
    "hashtags = pattern.findall(sample_text)\n",
    "print(hashtags)\n"
   ]
  },
  {
   "cell_type": "markdown",
   "id": "e997073a",
   "metadata": {},
   "source": [
    "### Question 28- Write a python program using RegEx to remove <U+..> like symbols\n",
    "- Check the below sample text, there are strange symbols something of the sort <U+..> all over the place. You need to come up with a general Regex expression that will cover all such symbols.\n",
    "- Sample Text: \"@Jags123456 Bharat band on 28??<ed><U+00A0><U+00BD><ed><U+00B8><U+0082>Those who  are protesting #demonetization  are all different party leaders\"\n",
    "- Expected Output: @Jags123456 Bharat band on 28??<ed><ed>Those who  are protesting #demonetization  are all different party leaders\n",
    "\n"
   ]
  },
  {
   "cell_type": "code",
   "execution_count": 31,
   "id": "962bcc48",
   "metadata": {},
   "outputs": [
    {
     "name": "stdout",
     "output_type": "stream",
     "text": [
      "@Jags123456 Bharat band on 28??Those who are protesting #demonetization are all different party leaders\n"
     ]
    }
   ],
   "source": [
    "string = \"@Jags123456 Bharat band on 28??<U+00A0><U+00BD><U+00B8><U+0082>Those who are protesting #demonetization are all different party leaders\"\n",
    "pattern = re.compile(r'<U\\+[A-F0-9]{4}>')\n",
    "trimmed_text = pattern.sub('', string)\n",
    "print(trimmed_text)"
   ]
  },
  {
   "cell_type": "markdown",
   "id": "699605a4",
   "metadata": {},
   "source": [
    "### Question 29- Write a python program to extract dates from the text stored in the text file.\n",
    "- Sample Text: Ron was born on 12-09-1992 and he was admitted to school 15-12-1999.\n",
    "- Note- Store this sample text in the file and then extract dates.\n",
    "\n"
   ]
  },
  {
   "cell_type": "code",
   "execution_count": 32,
   "id": "a4c99b9f",
   "metadata": {},
   "outputs": [
    {
     "name": "stdout",
     "output_type": "stream",
     "text": [
      "12-09-1992\n",
      "15-12-1999\n"
     ]
    }
   ],
   "source": [
    "with open('dates.txt', 'r') as file:\n",
    "    for line in file:\n",
    "        dates = re.findall(r'\\b\\d{2}-\\d{2}-\\d{4}\\b', line)\n",
    "        for date in dates:\n",
    "            print(date)"
   ]
  },
  {
   "cell_type": "markdown",
   "id": "5d667d66",
   "metadata": {},
   "source": [
    "### Question 30- Create a function in python to remove all words from a string of length between 2 and 4.\n",
    "- The use of the re.compile() method is mandatory.\n",
    "- Sample Text: \"The following example creates an ArrayList with a capacity of 50 elements. 4 elements are then added to the - - ArrayList and the ArrayList is trimmed accordingly.\"\n",
    "- Expected Output:  following example creates ArrayList a capacity elements. 4 elements added ArrayList ArrayList trimmed accordingly.\n",
    "\n",
    "\n"
   ]
  },
  {
   "cell_type": "code",
   "execution_count": 33,
   "id": "473da0e2",
   "metadata": {},
   "outputs": [
    {
     "data": {
      "text/plain": [
       "'The following example creates an ArrayList with a capacity of 50 elements. 4 elements are then added to the   ArrayList and the ArrayList is trimmed accordingly.'"
      ]
     },
     "execution_count": 33,
     "metadata": {},
     "output_type": "execute_result"
    }
   ],
   "source": [
    "txt= \"The following example creates an ArrayList with a capacity of 50 elements. 4 elements are then added to the - - ArrayList and the ArrayList is trimmed accordingly.\"\n",
    "pat =  re.compile(r'\\b\\w{2,4}\\b')\n",
    "trimmed_txt = pattern.sub('', txt)\n",
    "trimmed_txt.replace('-','')"
   ]
  },
  {
   "cell_type": "code",
   "execution_count": null,
   "id": "7b0cfbc2",
   "metadata": {},
   "outputs": [],
   "source": []
  },
  {
   "cell_type": "code",
   "execution_count": null,
   "id": "f77446bc",
   "metadata": {},
   "outputs": [],
   "source": []
  },
  {
   "cell_type": "code",
   "execution_count": null,
   "id": "7efefdaf",
   "metadata": {},
   "outputs": [],
   "source": []
  },
  {
   "cell_type": "code",
   "execution_count": null,
   "id": "f6fb5e37",
   "metadata": {},
   "outputs": [],
   "source": []
  },
  {
   "cell_type": "code",
   "execution_count": null,
   "id": "79a657ca",
   "metadata": {},
   "outputs": [],
   "source": []
  },
  {
   "cell_type": "code",
   "execution_count": null,
   "id": "fa613165",
   "metadata": {},
   "outputs": [],
   "source": []
  },
  {
   "cell_type": "code",
   "execution_count": null,
   "id": "51472d2f",
   "metadata": {},
   "outputs": [],
   "source": []
  },
  {
   "cell_type": "code",
   "execution_count": null,
   "id": "7b76d6e9",
   "metadata": {},
   "outputs": [],
   "source": []
  },
  {
   "cell_type": "code",
   "execution_count": null,
   "id": "3d3cc6b8",
   "metadata": {},
   "outputs": [],
   "source": []
  },
  {
   "cell_type": "code",
   "execution_count": null,
   "id": "4362faf5",
   "metadata": {},
   "outputs": [],
   "source": []
  },
  {
   "cell_type": "code",
   "execution_count": null,
   "id": "45ac5607",
   "metadata": {},
   "outputs": [],
   "source": []
  },
  {
   "cell_type": "code",
   "execution_count": null,
   "id": "8783c10b",
   "metadata": {},
   "outputs": [],
   "source": []
  },
  {
   "cell_type": "code",
   "execution_count": null,
   "id": "25993d13",
   "metadata": {},
   "outputs": [],
   "source": []
  },
  {
   "cell_type": "code",
   "execution_count": null,
   "id": "9155282d",
   "metadata": {},
   "outputs": [],
   "source": []
  },
  {
   "cell_type": "code",
   "execution_count": null,
   "id": "b2716c8d",
   "metadata": {},
   "outputs": [],
   "source": []
  },
  {
   "cell_type": "code",
   "execution_count": null,
   "id": "dea58d30",
   "metadata": {},
   "outputs": [],
   "source": []
  },
  {
   "cell_type": "code",
   "execution_count": null,
   "id": "3b765575",
   "metadata": {},
   "outputs": [],
   "source": []
  },
  {
   "cell_type": "code",
   "execution_count": null,
   "id": "074dfa72",
   "metadata": {},
   "outputs": [],
   "source": []
  },
  {
   "cell_type": "code",
   "execution_count": null,
   "id": "6053a64c",
   "metadata": {},
   "outputs": [],
   "source": []
  },
  {
   "cell_type": "code",
   "execution_count": null,
   "id": "9b5b18bc",
   "metadata": {},
   "outputs": [],
   "source": []
  },
  {
   "cell_type": "code",
   "execution_count": null,
   "id": "854c91ab",
   "metadata": {},
   "outputs": [],
   "source": []
  }
 ],
 "metadata": {
  "kernelspec": {
   "display_name": "Python 3",
   "language": "python",
   "name": "python3"
  },
  "language_info": {
   "codemirror_mode": {
    "name": "ipython",
    "version": 3
   },
   "file_extension": ".py",
   "mimetype": "text/x-python",
   "name": "python",
   "nbconvert_exporter": "python",
   "pygments_lexer": "ipython3",
   "version": "3.8.8"
  }
 },
 "nbformat": 4,
 "nbformat_minor": 5
}
